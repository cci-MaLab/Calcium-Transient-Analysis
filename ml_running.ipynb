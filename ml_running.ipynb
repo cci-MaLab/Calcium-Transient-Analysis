{
 "cells": [
  {
   "cell_type": "code",
   "execution_count": 7,
   "metadata": {},
   "outputs": [],
   "source": [
    "from ml_training.train import train"
   ]
  },
  {
   "cell_type": "code",
   "execution_count": 8,
   "metadata": {},
   "outputs": [
    {
     "ename": "TypeError",
     "evalue": "stat: path should be string, bytes, os.PathLike or integer, not list",
     "output_type": "error",
     "traceback": [
      "\u001b[0;31m---------------------------------------------------------------------------\u001b[0m",
      "\u001b[0;31mTypeError\u001b[0m                                 Traceback (most recent call last)",
      "Cell \u001b[0;32mIn[8], line 1\u001b[0m\n\u001b[0;32m----> 1\u001b[0m train()\n",
      "File \u001b[0;32m/geode2/home/u060/milange/Quartz/Documents/Cell_Clustering_Tool/ml_training/train.py:20\u001b[0m, in \u001b[0;36mtrain\u001b[0;34m()\u001b[0m\n\u001b[1;32m     17\u001b[0m paths \u001b[39m=\u001b[39m config\u001b[39m.\u001b[39mDATASET_PATH\n\u001b[1;32m     19\u001b[0m \u001b[39m# create the train and test datasets\u001b[39;00m\n\u001b[0;32m---> 20\u001b[0m trainDS \u001b[39m=\u001b[39m GRUDataset(paths\u001b[39m=\u001b[39;49mpaths, test_split\u001b[39m=\u001b[39;49mconfig\u001b[39m.\u001b[39;49mTEST_SIZE,\n\u001b[1;32m     21\u001b[0m \t\t\t\t     val_split\u001b[39m=\u001b[39;49mconfig\u001b[39m.\u001b[39;49mVAL_SIZE, section_len\u001b[39m=\u001b[39;49mconfig\u001b[39m.\u001b[39;49mSECTION_LEN)\n\u001b[1;32m     22\u001b[0m valDS \u001b[39m=\u001b[39m ValDataset(data \u001b[39m=\u001b[39m trainDS\u001b[39m.\u001b[39mget_data(), indices\u001b[39m=\u001b[39mtrainDS\u001b[39m.\u001b[39mval_indices, unit_ids\u001b[39m=\u001b[39mtrainDS\u001b[39m.\u001b[39munit_ids)\n\u001b[1;32m     23\u001b[0m testDS \u001b[39m=\u001b[39m TestDataset(data\u001b[39m=\u001b[39mtrainDS\u001b[39m.\u001b[39mget_data(), unit_ids\u001b[39m=\u001b[39mtrainDS\u001b[39m.\u001b[39mtest_unit_ids)\n",
      "File \u001b[0;32m/geode2/home/u060/milange/Quartz/Documents/Cell_Clustering_Tool/ml_training/dataset.py:24\u001b[0m, in \u001b[0;36m__init__\u001b[0;34m(self, paths, test_split, val_split, section_len)\u001b[0m\n\u001b[1;32m     22\u001b[0m events.\n\u001b[1;32m     23\u001b[0m '''\n\u001b[0;32m---> 24\u001b[0m data = open_minian(paths)\n\u001b[1;32m     25\u001b[0m # Loading into memory may take up some space but it is necessary for fast access during training\n\u001b[1;32m     26\u001b[0m self.E = data['E'].load()\n",
      "File \u001b[0;32m/geode2/home/u060/milange/Quartz/Documents/Cell_Clustering_Tool/core/backend.py:78\u001b[0m, in \u001b[0;36mopen_minian\u001b[0;34m(dpath, post_process, return_dict)\u001b[0m\n\u001b[1;32m     30\u001b[0m \u001b[39mdef\u001b[39;00m \u001b[39mopen_minian\u001b[39m(\n\u001b[1;32m     31\u001b[0m     dpath: \u001b[39mstr\u001b[39m, post_process: Optional[Callable] \u001b[39m=\u001b[39m \u001b[39mNone\u001b[39;00m, return_dict\u001b[39m=\u001b[39m\u001b[39mFalse\u001b[39;00m\n\u001b[1;32m     32\u001b[0m ) \u001b[39m-\u001b[39m\u001b[39m>\u001b[39m Union[\u001b[39mdict\u001b[39m, xr\u001b[39m.\u001b[39mDataset]:\n\u001b[1;32m     33\u001b[0m \u001b[39m    \u001b[39m\u001b[39m\"\"\"\u001b[39;00m\n\u001b[1;32m     34\u001b[0m \u001b[39m    Load an existing minian dataset.\u001b[39;00m\n\u001b[1;32m     35\u001b[0m \n\u001b[0;32m   (...)\u001b[0m\n\u001b[1;32m     76\u001b[0m \u001b[39m    xarray.merge : for how the `xr.DataArray` will be merged as `xr.Dataset`\u001b[39;00m\n\u001b[1;32m     77\u001b[0m \u001b[39m    \"\"\"\u001b[39;00m\n\u001b[0;32m---> 78\u001b[0m     \u001b[39mif\u001b[39;00m isfile(dpath):\n\u001b[1;32m     79\u001b[0m         ds \u001b[39m=\u001b[39m xr\u001b[39m.\u001b[39mopen_dataset(dpath)\u001b[39m.\u001b[39mchunk()\n\u001b[1;32m     80\u001b[0m     \u001b[39melif\u001b[39;00m isdir(dpath):\n",
      "File \u001b[0;32m~/.conda/envs/cell_clustering/envs/cell_exploration_ml/cell_exploration_ml/lib/python3.10/genericpath.py:30\u001b[0m, in \u001b[0;36misfile\u001b[0;34m(path)\u001b[0m\n\u001b[1;32m     28\u001b[0m \u001b[39m\u001b[39m\u001b[39m\"\"\"Test whether a path is a regular file\"\"\"\u001b[39;00m\n\u001b[1;32m     29\u001b[0m \u001b[39mtry\u001b[39;00m:\n\u001b[0;32m---> 30\u001b[0m     st \u001b[39m=\u001b[39m os\u001b[39m.\u001b[39;49mstat(path)\n\u001b[1;32m     31\u001b[0m \u001b[39mexcept\u001b[39;00m (\u001b[39mOSError\u001b[39;00m, \u001b[39mValueError\u001b[39;00m):\n\u001b[1;32m     32\u001b[0m     \u001b[39mreturn\u001b[39;00m \u001b[39mFalse\u001b[39;00m\n",
      "\u001b[0;31mTypeError\u001b[0m: stat: path should be string, bytes, os.PathLike or integer, not list"
     ]
    }
   ],
   "source": [
    "train()"
   ]
  }
 ],
 "metadata": {
  "kernelspec": {
   "display_name": "Python 3",
   "language": "python",
   "name": "python3"
  },
  "language_info": {
   "codemirror_mode": {
    "name": "ipython",
    "version": 3
   },
   "file_extension": ".py",
   "mimetype": "text/x-python",
   "name": "python",
   "nbconvert_exporter": "python",
   "pygments_lexer": "ipython3",
   "version": "3.10.13"
  },
  "orig_nbformat": 4
 },
 "nbformat": 4,
 "nbformat_minor": 2
}
