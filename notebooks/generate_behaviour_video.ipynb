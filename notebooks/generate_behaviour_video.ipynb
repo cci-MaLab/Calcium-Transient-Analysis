{
 "cells": [
  {
   "cell_type": "markdown",
   "metadata": {},
   "source": [
    "### Generate behaviour video\n",
    "\n",
    "You need to link two timestamp files, one will pertain to the framerate of the behaviour cam and the other of the calcium imaging video. We won't be synchronizing them framerate wise as long as they roughly finish and end at the same time we'll be fine. This has been setup to just work with avi files but you can look at the minian repo if you need a more comprehensive implementation."
   ]
  },
  {
   "cell_type": "code",
   "execution_count": 1,
   "metadata": {},
   "outputs": [],
   "source": [
    "import xarray as xr"
   ]
  },
  {
   "cell_type": "code",
   "execution_count": null,
   "metadata": {},
   "outputs": [],
   "source": [
    "minian_timestamps = \"/N/project/Cortical_Calcium_Image/Miniscope data/05.2023_Tenth_group/AA058_D1/AA058_D1_S1_behavior_ms.csv\"\n",
    "behavior_timestamps = \"/N/project/Cortical_Calcium_Image/Miniscope data/05.2023_Tenth_group/AA058_D1/2023_05_05/11_02_42/BehavCam_0/timeStamps.csv\"\n",
    "behavior_video_path = \"/N/project/Cortical_Calcium_Image/Miniscope data/05.2023_Tenth_group/AA058_D1/2023_05_05/11_02_42/BehavCam_0\"\n",
    "\n",
    "pattern = \"msCam[0-9]+\\.avi$\""
   ]
  }
 ],
 "metadata": {
  "kernelspec": {
   "display_name": "cell_exploration_ml",
   "language": "python",
   "name": "python3"
  },
  "language_info": {
   "codemirror_mode": {
    "name": "ipython",
    "version": 3
   },
   "file_extension": ".py",
   "mimetype": "text/x-python",
   "name": "python",
   "nbconvert_exporter": "python",
   "pygments_lexer": "ipython3",
   "version": "3.10.14"
  }
 },
 "nbformat": 4,
 "nbformat_minor": 2
}
