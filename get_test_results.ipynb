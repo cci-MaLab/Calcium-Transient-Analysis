{
 "cells": [
  {
   "cell_type": "markdown",
   "metadata": {},
   "source": [
    "### Extract test results\n",
    "\n",
    "The following notebook is to extrapolate the data used in testing in the ./ml_training/test_results/..."
   ]
  },
  {
   "cell_type": "code",
   "execution_count": 47,
   "metadata": {},
   "outputs": [],
   "source": [
    "import numpy as np\n",
    "import os\n",
    "from tqdm import tqdm\n",
    "import pickle\n",
    "from sklearn.metrics import (accuracy_score, f1_score, precision_score, recall_score, roc_auc_score)\n",
    "import pandas as pd"
   ]
  },
  {
   "cell_type": "code",
   "execution_count": 59,
   "metadata": {},
   "outputs": [
    {
     "name": "stderr",
     "output_type": "stream",
     "text": [
      "  0%|          | 0/5 [00:00<?, ?it/s]"
     ]
    },
    {
     "name": "stdout",
     "output_type": "stream",
     "text": [
      "(60, 134995)\n",
      "(60, 124995)\n"
     ]
    },
    {
     "name": "stderr",
     "output_type": "stream",
     "text": [
      "  0%|          | 0/5 [00:45<?, ?it/s]\n"
     ]
    },
    {
     "ename": "KeyboardInterrupt",
     "evalue": "",
     "output_type": "error",
     "traceback": [
      "\u001b[1;31m---------------------------------------------------------------------------\u001b[0m",
      "\u001b[1;31mKeyboardInterrupt\u001b[0m                         Traceback (most recent call last)",
      "Cell \u001b[1;32mIn[59], line 24\u001b[0m\n\u001b[0;32m     22\u001b[0m results[entry][sub_entry][results[entry][sub_entry] \u001b[38;5;241m>\u001b[39m\u001b[38;5;241m=\u001b[39m \u001b[38;5;241m0.5\u001b[39m] \u001b[38;5;241m=\u001b[39m \u001b[38;5;241m1\u001b[39m\n\u001b[0;32m     23\u001b[0m results[entry][sub_entry][results[entry][sub_entry] \u001b[38;5;241m<\u001b[39m \u001b[38;5;241m0.5\u001b[39m] \u001b[38;5;241m=\u001b[39m \u001b[38;5;241m0\u001b[39m\n\u001b[1;32m---> 24\u001b[0m results[entry][sub_entry] \u001b[38;5;241m=\u001b[39m \u001b[43mresults\u001b[49m\u001b[43m[\u001b[49m\u001b[43mentry\u001b[49m\u001b[43m]\u001b[49m\u001b[43m[\u001b[49m\u001b[43msub_entry\u001b[49m\u001b[43m]\u001b[49m\u001b[38;5;241;43m.\u001b[39;49m\u001b[43mastype\u001b[49m\u001b[43m(\u001b[49m\u001b[43mnp\u001b[49m\u001b[38;5;241;43m.\u001b[39;49m\u001b[43mint8\u001b[49m\u001b[43m)\u001b[49m\n\u001b[0;32m     25\u001b[0m \u001b[38;5;28mprint\u001b[39m(results[entry][sub_entry]\u001b[38;5;241m.\u001b[39mshape)\n\u001b[0;32m     26\u001b[0m \u001b[38;5;28;01mbreak\u001b[39;00m\n",
      "\u001b[1;31mKeyboardInterrupt\u001b[0m: "
     ]
    }
   ],
   "source": [
    "# Only set to True if you don't have the pickle file (LEAVE THIS FALSE IF YOU HAVE THE PICKLE FILE)\n",
    "if True:\n",
    "    results_path = \"./ml_training/test_results/\"\n",
    "\n",
    "    # Iterate through the results files and load the folders into dicts\n",
    "    results = {}\n",
    "    entries = os.listdir(results_path)\n",
    "    for entry in tqdm(entries):\n",
    "        if os.path.isdir(results_path + entry):\n",
    "            results[entry] = {}\n",
    "            sub_entries = os.listdir(results_path + entry)\n",
    "            for sub_entry in sub_entries:\n",
    "                if os.path.isdir(results_path + entry + \"/\" + sub_entry):\n",
    "                    results[entry][sub_entry] = {}\n",
    "                    sub_sub_entries = os.listdir(results_path + entry + \"/\" + sub_entry)\n",
    "                    # Extract the one file with .csv extension\n",
    "                    for sub_sub_entry in sub_sub_entries:\n",
    "                        if sub_sub_entry.endswith(\".csv\"):\n",
    "                            final_path = results_path + entry + \"/\" + sub_entry + \"/\" + sub_sub_entry\n",
    "                            results[entry][sub_entry] = np.genfromtxt(final_path, delimiter=\",\", dtype=float)\n",
    "                            # Greater than 0.5 is 1 result else 0\n",
    "                            results[entry][sub_entry][results[entry][sub_entry] >= 0.5] = 1\n",
    "                            results[entry][sub_entry][results[entry][sub_entry] < 0.5] = 0\n",
    "                            results[entry][sub_entry] = results[entry][sub_entry].astype(np.int8)\n",
    "                            break\n",
    "\n",
    "    # Save the dict with pickle\n",
    "    with open(\"test_results.pkl\", \"wb\") as f:\n",
    "        pickle.dump(results, f)"
   ]
  },
  {
   "cell_type": "code",
   "execution_count": 49,
   "metadata": {},
   "outputs": [
    {
     "name": "stdout",
     "output_type": "stream",
     "text": [
      "cross_animal\n",
      "\tAA034_D1S1\n",
      "\tAA036_D2S1\n",
      "\tAA058_D1S1\n",
      "\tPL010_D1S1\n",
      "\n",
      "cross_day_cross_session\n",
      "\tAA034_D1S1\n",
      "\tAA036_D2S1\n",
      "\tAA058_D1S1\n",
      "\tPL010_D1S1\n",
      "\n",
      "cross_day_same_session\n",
      "\tAA034_D1S1\n",
      "\tAA036_D2S1\n",
      "\tAA058_D1S1\n",
      "\tPL010_D1S1\n",
      "\n",
      "cross_session_same_day\n",
      "\tAA034_D1S1\n",
      "\tAA036_D2S1\n",
      "\tAA058_D1S1\n",
      "\tPL010_D1S1\n",
      "\n",
      "within_session\n",
      "\tAA034_D1S1\n",
      "\tAA036_D2S1\n",
      "\tAA058_D1S1\n",
      "\tPL010_D1S1\n",
      "\n",
      "The names listed above were used for training the models. Get in touch with Michal to find out what the test set was or you can figure it out from ml_running.py\n"
     ]
    }
   ],
   "source": [
    "results = pickle.load(open(\"test_results.pkl\", \"rb\"))\n",
    "# Print keys and subkeys\n",
    "for key in results.keys():\n",
    "    print(key)\n",
    "    for subkey in results[key].keys():\n",
    "        print(\"\\t\" + subkey)\n",
    "        print()\n",
    "    print()\n",
    "\n",
    "print(\"The names listed above were used for training the models. Get in touch with Michal to find out what the test set was or you can figure it out from ml_running.py\")"
   ]
  },
  {
   "cell_type": "code",
   "execution_count": 50,
   "metadata": {},
   "outputs": [],
   "source": [
    "# The following function takes in three arguments, the experiment type, the training data and a function to apply to the data.\n",
    "# You can omit providing the training data and it will accumulate the results for all subkeys in the results dict.\n",
    "\n",
    "def apply_to_results(experiment_type, func, training_name=None, average=False):\n",
    "    if experiment_type not in results.keys():\n",
    "        raise ValueError(\"The experiment type provided is not in the results dict\")\n",
    "    if training_name is not None:\n",
    "        if training_name not in results[experiment_type].keys():\n",
    "            raise ValueError(\"The experiment type provided is not in the results dict\")\n",
    "        training_name = [training_name]\n",
    "    else:\n",
    "        training_name = results[experiment_type].keys()\n",
    "    \n",
    "    # We need to extract the results. It is set up in the following manner:\n",
    "    # Each two rows represent the ground truth and predictions respectively. There should be 60 rows because each experiment was repeated 5 times, for values [1, 2, 5, 10, 15, 20]. So 2*5*6=60\n",
    "    # Therefore the func should be applied to each pair of rows.\n",
    "\n",
    "    metrics = {}\n",
    "    for name in training_name:\n",
    "        arr = results[experiment_type][name]\n",
    "        for i, size in enumerate([1, 1, 1, 1, 1, 2, 2, 2, 2, 2, 5, 5, 5, 5, 5, 10, 10, 10, 10, 10, 15, 15, 15, 15, 15, 20, 20, 20, 20, 20]):\n",
    "            ground_truth = arr[i*2]\n",
    "            predictions = arr[i*2+1]\n",
    "            if metrics.get(size) is None:\n",
    "                metrics[size] = []\n",
    "            metrics[size].append(func(ground_truth, predictions))\n",
    "    \n",
    "    if average:\n",
    "        for key in metrics.keys():\n",
    "            metrics[key] = np.mean(metrics[key])\n",
    "    \n",
    "    return metrics\n",
    "\n",
    "\n",
    "def true_positives(y_true, y_pred, target=1):\n",
    "    return np.sum(np.logical_and(y_true == target, y_pred == target))\n",
    "\n",
    "def true_negatives(y_true, y_pred, target=0):\n",
    "    return np.sum(np.logical_and(y_true == target, y_pred == target))\n",
    "\n",
    "def false_positives(y_true, y_pred, target=1):\n",
    "    return np.sum(np.logical_and(y_true == target, y_pred != target))\n",
    "\n",
    "def false_negatives(y_true, y_pred, target=0):\n",
    "    return np.sum(np.logical_and(y_true == target, y_pred != target))\n",
    "\n",
    "def _extract_indices(indices):\n",
    "        indices = indices.nonzero()[0]\n",
    "        if indices.any():\n",
    "            # Split up the indices into groups\n",
    "            indices = np.split(indices, np.where(np.diff(indices) != 1)[0]+1)\n",
    "            # Now Split the indices into pairs of first and last indices\n",
    "            indices = [(indices_group[0], indices_group[-1]+1) for indices_group in indices]\n",
    "\n",
    "        return indices\n",
    "\n",
    "def _overlaps(range1, range2):\n",
    "    return len(range(max(range1[0], range2[0]), min(range1[1], range2[1]))) != 0\n",
    "\n",
    "def transient_overlap(y_true, y_pred, threshold=0.5):\n",
    "    # Not sure if this works as necessary avoid for the time being.    \n",
    "    indices_true = _extract_indices(y_true)\n",
    "    indices_pred = _extract_indices(y_pred)\n",
    "\n",
    "    # Now iterate through the indices and check if they overlap and if they do overlap what is the percentage of overlap\n",
    "    tp = 0\n",
    "    fp = 0\n",
    "    fn = 0\n",
    "\n",
    "    # We'll iterate through both simultaneously and check their ranges, we'll pop from the list anything that is outside the range or already counted\n",
    "    while indices_true and indices_pred:\n",
    "        true_range = indices_true[0]\n",
    "        pred_range = indices_pred[0]\n",
    "\n",
    "        # Check if there is overlap\n",
    "        if _overlaps(true_range, pred_range):\n",
    "            # Check the percentage of overlap\n",
    "            overlap = len(range(max(true_range[0], pred_range[0]), min(true_range[1], pred_range[1])))\n",
    "            overlap_percentage = overlap / (pred_range[1] - pred_range[0])\n",
    "            if overlap_percentage >= threshold:\n",
    "                tp += 1\n",
    "                # Pop both indices\n",
    "                indices_true.pop(0)\n",
    "                indices_pred.pop(0)\n",
    "            elif true_range[1] < pred_range[1]:\n",
    "                indices_true.pop(0)\n",
    "                fn += 1\n",
    "            else:\n",
    "                indices_pred.pop(0)\n",
    "                fp += 1\n",
    "\n",
    "        else:\n",
    "            # Whichever ends first, pop it\n",
    "            if true_range[1] < pred_range[1]:\n",
    "                indices_true.pop(0)\n",
    "                fn += 1\n",
    "            else:\n",
    "                indices_pred.pop(0)\n",
    "                fp += 1\n",
    "        \n",
    "    # Now we need to add the remaining indices\n",
    "    fn += len(indices_true)\n",
    "    fp += len(indices_pred)\n",
    "\n",
    "    return (tp, fp, fn)\n",
    "\n",
    "def dict_to_flattened(dict_):\n",
    "    flattened = []\n",
    "    for value in dict_.values():\n",
    "        flattened.extend(value)\n",
    "    return flattened\n",
    "\n",
    "def to_csv(metrics, filename):\n",
    "    # get the first value and check the length\n",
    "    length = len(metrics[0][1][1])\n",
    "    \n",
    "    column_names = []\n",
    "    for no_cells in [1, 2, 5, 10, 15, 20]:\n",
    "        for run in range(1, 6):\n",
    "            if length == 5:\n",
    "                column_names.append(f\"C{no_cells} R{run}\")\n",
    "            else:\n",
    "                for name in [\"AA034_D1S1\", \"AA036_D2S1\", \"AA058_D1S1\", \"PL010_D1S1\"]:\n",
    "                    column_names.append(f\"{name} C{no_cells} R{run}\")\n",
    "    \n",
    "    # Create pandas dataframe and insert column names\n",
    "    df = pd.DataFrame(columns=column_names)\n",
    "    for name, metric in metrics:\n",
    "        df.loc[name] = dict_to_flattened(metric)\n",
    "\n",
    "    with open(filename, \"w\") as f:\n",
    "        df.to_csv(f, lineterminator=\"\\n\")\n",
    "        \n",
    "                \n"
   ]
  },
  {
   "cell_type": "code",
   "execution_count": 51,
   "metadata": {},
   "outputs": [],
   "source": [
    "f1_macro = lambda x, y: f1_score(x, y, average=\"macro\")\n",
    "f1_standard = lambda x, y: f1_score(x, y)\n",
    "f1_standard_nt = lambda x, y: f1_score(x, y, pos_label=0)\n",
    "tp_t = lambda x, y: true_positives(x, y)\n",
    "tp_nt = lambda x, y: true_positives(x, y, target=0)\n",
    "tn_t = lambda x, y: true_negatives(x, y)\n",
    "tn_nt = lambda x, y: true_negatives(x, y, target=1)\n",
    "fp_t = lambda x, y: false_positives(x, y)\n",
    "fp_nt = lambda x, y: false_positives(x, y, target=0)\n",
    "fn_t = lambda x, y: false_negatives(x, y)\n",
    "fn_nt = lambda x, y: false_negatives(x, y, target=1)\n",
    "precision_t = lambda x, y: precision_score(x, y)\n",
    "precision_nt = lambda x, y: precision_score(x, y, pos_label=0)\n",
    "recall_t = lambda x, y: recall_score(x, y)\n",
    "recall_nt = lambda x, y: recall_score(x, y, pos_label=0)\n",
    "#trans = lambda x, y: transient_overlap(x, y)"
   ]
  },
  {
   "cell_type": "code",
   "execution_count": 58,
   "metadata": {},
   "outputs": [
    {
     "name": "stderr",
     "output_type": "stream",
     "text": [
      "e:\\milange\\miniconda\\envs\\cell_exploration_ml\\lib\\site-packages\\sklearn\\metrics\\_classification.py:1471: UndefinedMetricWarning: Precision is ill-defined and being set to 0.0 due to no predicted samples. Use `zero_division` parameter to control this behavior.\n",
      "  _warn_prf(average, modifier, msg_start, len(result))\n",
      "e:\\milange\\miniconda\\envs\\cell_exploration_ml\\lib\\site-packages\\sklearn\\metrics\\_classification.py:1471: UndefinedMetricWarning: Precision is ill-defined and being set to 0.0 due to no predicted samples. Use `zero_division` parameter to control this behavior.\n",
      "  _warn_prf(average, modifier, msg_start, len(result))\n",
      "e:\\milange\\miniconda\\envs\\cell_exploration_ml\\lib\\site-packages\\sklearn\\metrics\\_classification.py:1471: UndefinedMetricWarning: Precision is ill-defined and being set to 0.0 due to no predicted samples. Use `zero_division` parameter to control this behavior.\n",
      "  _warn_prf(average, modifier, msg_start, len(result))\n",
      "e:\\milange\\miniconda\\envs\\cell_exploration_ml\\lib\\site-packages\\sklearn\\metrics\\_classification.py:1471: UndefinedMetricWarning: Precision is ill-defined and being set to 0.0 due to no predicted samples. Use `zero_division` parameter to control this behavior.\n",
      "  _warn_prf(average, modifier, msg_start, len(result))\n"
     ]
    }
   ],
   "source": [
    "experiment_type = \"within_session\"\n",
    "\n",
    "# Tests\n",
    "f1_result_macro = apply_to_results(experiment_type, f1_macro, average=False)\n",
    "f1_result_standard = apply_to_results(experiment_type, f1_standard, average=False)\n",
    "f1_result_standard_non_transient = apply_to_results(experiment_type, f1_standard_nt, average=False)\n",
    "\n",
    "tp_result_transient = apply_to_results(experiment_type, tp_t, average=False)\n",
    "tp_result_non_transient = apply_to_results(experiment_type, tp_nt, average=False)\n",
    "tn_result_transient = apply_to_results(experiment_type, tn_t, average=False)\n",
    "tn_result_non_transient = apply_to_results(experiment_type, tn_nt, average=False)\n",
    "fp_result_transient = apply_to_results(experiment_type, fp_t, average=False)\n",
    "fp_result_non_transient = apply_to_results(experiment_type, fp_nt, average=False)\n",
    "fn_result_transient = apply_to_results(experiment_type, fn_t, average=False)\n",
    "fn_result_non_transient = apply_to_results(experiment_type, fn_nt, average=False)\n",
    "precision_transient = apply_to_results(experiment_type, precision_t, average=False)\n",
    "precision_non_transient = apply_to_results(experiment_type, precision_nt, average=False)\n",
    "recall_transient = apply_to_results(experiment_type, recall_t, average=False)\n",
    "recall_non_transient = apply_to_results(experiment_type, recall_nt, average=False)\n"
   ]
  },
  {
   "cell_type": "code",
   "execution_count": 53,
   "metadata": {},
   "outputs": [
    {
     "name": "stdout",
     "output_type": "stream",
     "text": [
      "{1: [0.8191561762272243, 0.7603954289871382, 0.8482987020719219, 0.8202077732084667, 0.8804541487887514, 0.8386214600514901, 0.6878820735865177, 0.5437358034113653, 0.7066406565117098, 0.7838789294047798, 0.8084975700002643, 0.8532778831104266, 0.7251434723305292, 0.7385404927527421, 0.8584523514874352, 0.49778645833333335, 0.8209807487616392, 0.496692963879858, 0.9082839414821385, 0.6022218504037572], 2: [0.8232889503293153, 0.8247592233969738, 0.8770781765745728, 0.8526965069128261, 0.8870067157588206, 0.8556079664570231, 0.8747241789426019, 0.8619129190545228, 0.576420114450769, 0.8488884709523624, 0.797905270182826, 0.8756547859382813, 0.8078759872408992, 0.8769118730927334, 0.8640879747687958, 0.9035819657110487, 0.49647895204064124, 0.8057668531385473, 0.6612159877053561, 0.7849244477753181], 5: [0.9275417572477119, 0.9056733819004883, 0.9164367827505233, 0.9174688999370791, 0.8531121145514118, 0.9418942141512264, 0.9088353005842138, 0.9003339715296466, 0.9071686873851696, 0.809899509414954, 0.8674009331391053, 0.9064966146825737, 0.8344568032794675, 0.8841538728575535, 0.8643130565430657, 0.7497798118156889, 0.8650025142462956, 0.9170648426183182, 0.49517217136360914, 0.8683455286218322], 10: [0.8754087869412155, 0.9613907701948365, 0.9408818443322073, 0.8117194796167828, 0.940510399047364, 0.8415881265544248, 0.9338577114976884, 0.9098223158509766, 0.9209428420988239, 0.8976331437935583, 0.875112789228657, 0.8966125145416537, 0.8688040249318332, 0.8486952403537107, 0.8652450863270347, 0.9326984520367645, 0.8918131980637228, 0.9339216976903357, 0.903663253484328, 0.9681422687962127], 15: [0.9077699041062789, 0.9403998765608228, 0.9438458551060454, 0.9456258088077472, 0.9189230612600061, 0.9441531032258237, 0.9711702613187209, 0.9456278616914899, 0.9559486252003314, 0.9436986507874752, 0.9342744331223842, 0.8665213178294573, 0.9129965461680398, 0.839429339155938, 0.9084203163759508, 0.928906232530147, 0.9389771405275027, 0.9408276187827102, 0.94900532438835, 0.9501462052677669], 20: [0.9576669092901536, 0.9292011708242112, 0.94785404311103, 0.9232031907716661, 0.9445299454680167, 0.9705978187553342, 0.9730683106497966, 0.9589132547895266, 0.9586127904087912, 0.9473951250286792, 0.8674711462505342, 0.9047422309269997, 0.8665444798559785, 0.8509458728856325, 0.8494471380856023, 0.9323215915665055, 0.9578765558975243, 0.94797863967505, 0.9656611944634989, 0.9448710579549346]}\n"
     ]
    }
   ],
   "source": [
    "print(f1_result_macro)"
   ]
  },
  {
   "cell_type": "code",
   "execution_count": 57,
   "metadata": {},
   "outputs": [],
   "source": [
    "metrics = [(\"TP_Transient\", tp_result_transient), (\"TP_No_Transient\", tp_result_non_transient), \n",
    "           (\"TN_Transient\", tn_result_transient), (\"TN_No_Tansient\", tn_result_non_transient),\n",
    "             (\"FP_Transient\", fp_result_transient), (\"FP_No_Transient\", fp_result_non_transient), \n",
    "             (\"FN_Transient\", fn_result_transient), (\"FN_No_Transient\", fn_result_non_transient),\n",
    "             (\"Precision_Transient\", precision_transient), (\"Precision_No_Transient\", precision_non_transient),\n",
    "              (\"Recall_Transient\", recall_transient), (\"Recall_No_Transient\", recall_non_transient),\n",
    "              (\"F1_Macro\", f1_result_macro), (\"F1_Standard\", f1_result_standard), (\"F1_Standard_No_Transient\", f1_result_standard_non_transient)]\n",
    "\n",
    "to_csv(metrics, f\"{experiment_type}.csv\")"
   ]
  },
  {
   "cell_type": "code",
   "execution_count": 55,
   "metadata": {},
   "outputs": [
    {
     "name": "stdout",
     "output_type": "stream",
     "text": [
      "f1 macro\n",
      "{1: [0.8191561762272243, 0.7603954289871382, 0.8482987020719219, 0.8202077732084667, 0.8804541487887514, 0.8386214600514901, 0.6878820735865177, 0.5437358034113653, 0.7066406565117098, 0.7838789294047798, 0.8084975700002643, 0.8532778831104266, 0.7251434723305292, 0.7385404927527421, 0.8584523514874352, 0.49778645833333335, 0.8209807487616392, 0.496692963879858, 0.9082839414821385, 0.6022218504037572], 2: [0.8232889503293153, 0.8247592233969738, 0.8770781765745728, 0.8526965069128261, 0.8870067157588206, 0.8556079664570231, 0.8747241789426019, 0.8619129190545228, 0.576420114450769, 0.8488884709523624, 0.797905270182826, 0.8756547859382813, 0.8078759872408992, 0.8769118730927334, 0.8640879747687958, 0.9035819657110487, 0.49647895204064124, 0.8057668531385473, 0.6612159877053561, 0.7849244477753181], 5: [0.9275417572477119, 0.9056733819004883, 0.9164367827505233, 0.9174688999370791, 0.8531121145514118, 0.9418942141512264, 0.9088353005842138, 0.9003339715296466, 0.9071686873851696, 0.809899509414954, 0.8674009331391053, 0.9064966146825737, 0.8344568032794675, 0.8841538728575535, 0.8643130565430657, 0.7497798118156889, 0.8650025142462956, 0.9170648426183182, 0.49517217136360914, 0.8683455286218322], 10: [0.8754087869412155, 0.9613907701948365, 0.9408818443322073, 0.8117194796167828, 0.940510399047364, 0.8415881265544248, 0.9338577114976884, 0.9098223158509766, 0.9209428420988239, 0.8976331437935583, 0.875112789228657, 0.8966125145416537, 0.8688040249318332, 0.8486952403537107, 0.8652450863270347, 0.9326984520367645, 0.8918131980637228, 0.9339216976903357, 0.903663253484328, 0.9681422687962127], 15: [0.9077699041062789, 0.9403998765608228, 0.9438458551060454, 0.9456258088077472, 0.9189230612600061, 0.9441531032258237, 0.9711702613187209, 0.9456278616914899, 0.9559486252003314, 0.9436986507874752, 0.9342744331223842, 0.8665213178294573, 0.9129965461680398, 0.839429339155938, 0.9084203163759508, 0.928906232530147, 0.9389771405275027, 0.9408276187827102, 0.94900532438835, 0.9501462052677669], 20: [0.9576669092901536, 0.9292011708242112, 0.94785404311103, 0.9232031907716661, 0.9445299454680167, 0.9705978187553342, 0.9730683106497966, 0.9589132547895266, 0.9586127904087912, 0.9473951250286792, 0.8674711462505342, 0.9047422309269997, 0.8665444798559785, 0.8509458728856325, 0.8494471380856023, 0.9323215915665055, 0.9578765558975243, 0.94797863967505, 0.9656611944634989, 0.9448710579549346]}\n",
      "f1 standard\n",
      "{1: [0.6436843522757878, 0.5283875851627555, 0.6995951417004048, 0.6465028355387523, 0.7628765792031098, 0.6803809523809523, 0.3851997059544229, 0.09708054871614491, 0.41713641488162345, 0.5729993891264509, 0.6265096168182496, 0.7121477162293488, 0.46024933578581645, 0.4906522049379192, 0.72284048754637, 0.0, 0.6471784443314693, 0.0, 0.817959980478282, 0.21465666474321987], 2: [0.6564161517459405, 0.6552483484218252, 0.7587961000423907, 0.709079283887468, 0.7775199793761278, 0.7142857142857142, 0.7530026109660575, 0.7276607095225394, 0.16020451640391992, 0.7012313674659754, 0.6068572977368207, 0.7568905760026408, 0.6231155778894473, 0.7605327534656157, 0.7337767391695128, 0.8108108108108109, 0.0, 0.61526599845798, 0.3345107001869936, 0.5732838589981447], 5: [0.8563710040522288, 0.8133971291866029, 0.834853090172239, 0.8381691867592971, 0.7122104436592068, 0.8849557522123893, 0.820629849383843, 0.8031774051191527, 0.8163405423961552, 0.6236870699022093, 0.7415204678362572, 0.8164883075703528, 0.6808159901092109, 0.775754782207882, 0.7325038880248834, 0.5051443743776967, 0.7330960854092528, 0.8360065466448444, 0.0, 0.7395973154362416], 10: [0.7548923679060665, 0.9238400933761308, 0.8842145889617907, 0.6317130893864918, 0.8831344291826166, 0.6861826697892272, 0.868937875751503, 0.821868428957645, 0.8443271767810028, 0.7969656403391343, 0.7587700303161541, 0.7977811396873423, 0.7438454347148645, 0.7028253248092391, 0.736238930369856, 0.8660968660968661, 0.7847171197648787, 0.8699320365596437, 0.8096129837702871, 0.9369167599850691], 15: [0.8182559087204564, 0.8818897637795275, 0.8886885984677783, 0.8926045016077171, 0.84141689373297, 0.8896445131375579, 0.9429809936645549, 0.8928571428571428, 0.9131865350544166, 0.8881542699724518, 0.8709214036527807, 0.7419712070874861, 0.8300508259212199, 0.6878711891249835, 0.8216015958962668, 0.8601012425218592, 0.8795454545454546, 0.8827694728560188, 0.9000554221319046, 0.9019343229869544], 20: [0.9166875156367276, 0.8610021786492374, 0.897478199387226, 0.8489278752436649, 0.8907249466950959, 0.9416096791162546, 0.946788990825688, 0.9184197024114931, 0.9180070615927814, 0.8962589546298753, 0.7450904517751766, 0.8149016542920411, 0.7406438105208061, 0.7110197169468973, 0.7060653188180405, 0.8654217643271087, 0.9161849710982659, 0.8974224092582852, 0.9326364692218351, 0.8916684333262668]}\n"
     ]
    },
    {
     "data": {
      "text/plain": [
       "'\\nprint(\"True Positives Average\")\\nprint(tp_result)\\nprint(\"True Negatives Average\")\\nprint(tn_result)\\nprint(\"False Positives Average\")\\nprint(fp_result)\\nprint(\"False Negatives Average\")\\nprint(fn_result)\\nprint(\"Precision Average\")\\nprint(precision_result)\\nprint(\"Recall Average\")\\nprint(recall_result)\\nprint(\"Accuracy Average\")\\nprint(accuracy_result)\\n'"
      ]
     },
     "execution_count": 55,
     "metadata": {},
     "output_type": "execute_result"
    }
   ],
   "source": [
    "print(\"f1 macro\")\n",
    "print(f1_result_macro)\n",
    "print(\"f1 standard\")\n",
    "print(f1_result_standard)\n",
    "\"\"\"\n",
    "print(\"True Positives Average\")\n",
    "print(tp_result)\n",
    "print(\"True Negatives Average\")\n",
    "print(tn_result)\n",
    "print(\"False Positives Average\")\n",
    "print(fp_result)\n",
    "print(\"False Negatives Average\")\n",
    "print(fn_result)\n",
    "print(\"Precision Average\")\n",
    "print(precision_result)\n",
    "print(\"Recall Average\")\n",
    "print(recall_result)\n",
    "print(\"Accuracy Average\")\n",
    "print(accuracy_result)\n",
    "\"\"\""
   ]
  }
 ],
 "metadata": {
  "kernelspec": {
   "display_name": "cell_exploration_ml",
   "language": "python",
   "name": "python3"
  },
  "language_info": {
   "codemirror_mode": {
    "name": "ipython",
    "version": 3
   },
   "file_extension": ".py",
   "mimetype": "text/x-python",
   "name": "python",
   "nbconvert_exporter": "python",
   "pygments_lexer": "ipython3",
   "version": "3.10.14"
  }
 },
 "nbformat": 4,
 "nbformat_minor": 2
}
