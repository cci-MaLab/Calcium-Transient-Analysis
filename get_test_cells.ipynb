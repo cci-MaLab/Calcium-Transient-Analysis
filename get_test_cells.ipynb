{
 "cells": [
  {
   "cell_type": "markdown",
   "metadata": {},
   "source": [
    "The purpose of this notebook is to indentify what cells were used for testing."
   ]
  },
  {
   "cell_type": "code",
   "execution_count": 14,
   "metadata": {},
   "outputs": [],
   "source": [
    "# open test_results.pkl\n",
    "\n",
    "import pickle\n",
    "import numpy as np\n",
    "from core.backend import open_minian\n",
    "\n",
    "with open('test_results.pkl', 'rb') as f:\n",
    "    results = pickle.load(f)"
   ]
  },
  {
   "cell_type": "code",
   "execution_count": 9,
   "metadata": {},
   "outputs": [],
   "source": [
    "# Iterate through experiments\n",
    "dict = {\"cross_session_same_day\": [[\"./data/PL010/PL010_D1S1\", \"./data/PL010/PL010_D1S4\"], [\"./data/AA058/AA058_D1S1\", \"./data/AA058/AA058_D1S4\"], [\"./data/AA036/AA036_D2S1\", \"./data/AA036/AA036_D2S4\"], [\"./data/AA034/AA034_D1S1\", \"./data/AA034/AA034_D1S4\"]],\n",
    "        \"cross_day_same_session\": [[\"./data/PL010/PL010_D1S1\", \"./data/PL010/PL010_D8S1\"], [\"./data/AA058/AA058_D1S1\", \"./data/AA058/AA058_D5S1\"], [\"./data/AA036/AA036_D2S1\", \"./data/AA036/AA036_D6S1\"], [\"./data/AA034/AA034_D1S1\", \"./data/AA034/AA034_D7S1\"]],\n",
    "        \"cross_day_cross_session\": [[\"./data/PL010/PL010_D1S1\", \"./data/PL010/PL010_D8S4\"], [\"./data/AA058/AA058_D1S1\", \"./data/AA058/AA058_D5S4\"], [\"./data/AA036/AA036_D2S1\", \"./data/AA036/AA036_D6S4\"], [\"./data/AA034/AA034_D1S1\", \"./data/AA034/AA034_D7S4\"]],\n",
    "        \"cross_animal\": [[\"./data/PL010/PL010_D1S1\", \"./data/AA058/AA058_D1S1\"], [\"./data/AA058/AA058_D1S1\", \"./data/AA036/AA036_D2S1\"], [\"./data/AA036/AA036_D2S1\", \"./data/AA034/AA034_D1S1\"], [\"./data/AA034/AA034_D1S1\", \"./data/PL010/PL010_D1S1\"]],\n",
    "        \"within_session\": [\"./data/PL010/PL010_D1S1\", \"./data/PL010/PL010_D1S1\", \"./data/PL010/PL010_D1S1\", \"./data/PL010/PL010_D1S1\"]}\n",
    "\n",
    "experiments = results.keys()\n",
    "\n",
    "def find_test_set(experiment, training_set):\n",
    "        arr = dict[experiment]\n",
    "        for train, test in arr:\n",
    "            if train[-len(training_set):] == training_set:\n",
    "                return test\n",
    "        print(f\"Error: Test set not found for {experiment} and {training_set}\")\n",
    "\n",
    "def get_ground_truth(arr):\n",
    "        # Get rows 0, 2, 4 etc. from the array\n",
    "        return arr[::2]\n",
    "        "
   ]
  },
  {
   "cell_type": "code",
   "execution_count": 8,
   "metadata": {},
   "outputs": [
    {
     "data": {
      "text/plain": [
       "(60, 132310)"
      ]
     },
     "execution_count": 8,
     "metadata": {},
     "output_type": "execute_result"
    }
   ],
   "source": [
    "results[\"cross_session_same_day\"][\"AA034_D1S1\"]"
   ]
  },
  {
   "cell_type": "code",
   "execution_count": 20,
   "metadata": {},
   "outputs": [],
   "source": [
    "test_cells_dict = {}\n",
    "\n",
    "for experiment in experiments:\n",
    "    test_cells_dict[experiment] = {}\n",
    "    training_sets = results[experiment].keys()\n",
    "    for training_set in training_sets:\n",
    "        test_cells_dict[experiment][training_set] = []\n",
    "        test_set = find_test_set(experiment, training_set)\n",
    "        E = open_minian(test_set)[\"E\"].load()\n",
    "        all_unit_ids = E.unit_id.values\n",
    "        verified = E.verified.values.astype(int)\n",
    "        unit_ids = all_unit_ids[verified==1]\n",
    "        E = E.sel(unit_id=unit_ids)\n",
    "        ground_truth = get_ground_truth(results[experiment][training_set])\n",
    "        # We need to match the ground truth with the results in E and return the name of the cell\n",
    "        for row in ground_truth:\n",
    "            found = False\n",
    "            for unit_id in unit_ids:\n",
    "                if E.sel(unit_id=unit_id).values == row:\n",
    "                    test_cells_dict[experiment][training_set].append(unit_id)\n",
    "                    found = True\n",
    "                    break\n",
    "        \n",
    "            if not found:\n",
    "                raise Exception(f\"Error: Cell not found in test set {test_set} for experiment {experiment} and training set {training_set}\")\n",
    "\n",
    "\n",
    "        \n",
    "    \n",
    "    "
   ]
  }
 ],
 "metadata": {
  "kernelspec": {
   "display_name": "cell_exploration_ml",
   "language": "python",
   "name": "python3"
  },
  "language_info": {
   "codemirror_mode": {
    "name": "ipython",
    "version": 3
   },
   "file_extension": ".py",
   "mimetype": "text/x-python",
   "name": "python",
   "nbconvert_exporter": "python",
   "pygments_lexer": "ipython3",
   "version": "3.10.14"
  }
 },
 "nbformat": 4,
 "nbformat_minor": 2
}
